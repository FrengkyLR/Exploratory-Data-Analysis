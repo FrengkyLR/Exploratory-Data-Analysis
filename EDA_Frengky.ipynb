{
 "cells": [
  {
   "cell_type": "markdown",
   "metadata": {},
   "source": [
    "# Quiz: Exploratory Data Analysis\n",
    "\n",
    "Kuis ini merupakan bagian dari proses penilaian *Algoritma Academy*. Selamat anda sudah menyelesaikan materi *Exploratory Data Analysis*! Kami akan melakukan penilaian berupa kuis untuk menguji materi yang sudah dipelajari. Pengerjaan Kuis diharapkan dapat dilakukan di dalam kelas, silakan hubungi tim pengajar kami jika Anda melewatkan kesempatan untuk mengambilnya di kelas."
   ]
  },
  {
   "cell_type": "markdown",
   "metadata": {},
   "source": [
    "# Dataset Bukalapak"
   ]
  },
  {
   "cell_type": "markdown",
   "metadata": {},
   "source": [
    "## Data Preparation\n",
    "\n",
    "Pada kuis ini kita akan menggunakan **e-commerce product dataset**. Anda dapat menggunakan data `online_bl.csv` yang tersimpan dalam folder `data_input`. \n",
    "\n",
    "Data berisi informasi produk yang dijual pada website e-commerce bukalapak.com. Data tersebut memiliki beberapa variable antara lain :\n",
    "\n",
    "- `item_link` : link website produk dalam list  \n",
    "- `title` : nama produk yang dijual\n",
    "- `price_original` : harga produk\n",
    "- `price_discount` : harga discount produk\n",
    "- `sub_category` : sub-category produk\n",
    "- `time_update` : waktu unggah informasi produk pada website\n",
    "- `scale` : skala satuan product"
   ]
  },
  {
   "cell_type": "markdown",
   "metadata": {},
   "source": [
    "Silahkan import data `online_bl.csv` dari folder `data_input` dan simpan kedalam variabel `online_bl`. Gunakan parameter `parse_dates=[__]` pada method `read_csv()` untuk mengubah tipe data pada kolom `time_update`. "
   ]
  },
  {
   "cell_type": "code",
   "execution_count": 4,
   "metadata": {},
   "outputs": [],
   "source": [
    "## Import Library & Read Data\n",
    "import pandas as pd\n",
    "online_bl = pd.read_csv(\"data_input/online_bl.csv\",parse_dates=['time_update'])"
   ]
  },
  {
   "cell_type": "markdown",
   "metadata": {},
   "source": [
    "Anda akan melakukan eksplorasi data `online_bl` untuk memastikan bahwa data tersebut siap untuk dianalisis. Hal yang pertama akan Anda lakukan adalah melakukan pengecekan tipe data."
   ]
  },
  {
   "cell_type": "code",
   "execution_count": 5,
   "metadata": {
    "scrolled": true
   },
   "outputs": [
    {
     "data": {
      "text/plain": [
       "item_link                 object\n",
       "title                     object\n",
       "price_original           float64\n",
       "price_discount           float64\n",
       "sub_category              object\n",
       "time_update       datetime64[ns]\n",
       "scale                     object\n",
       "dtype: object"
      ]
     },
     "execution_count": 5,
     "metadata": {},
     "output_type": "execute_result"
    }
   ],
   "source": [
    "# Cek Type Data\n",
    "online_bl.dtypes"
   ]
  },
  {
   "cell_type": "code",
   "execution_count": 7,
   "metadata": {},
   "outputs": [
    {
     "data": {
      "text/plain": [
       "item_link         689\n",
       "title             659\n",
       "price_original    244\n",
       "price_discount     15\n",
       "sub_category        3\n",
       "time_update       637\n",
       "scale               4\n",
       "dtype: int64"
      ]
     },
     "execution_count": 7,
     "metadata": {},
     "output_type": "execute_result"
    }
   ],
   "source": [
    "online_bl.nunique()"
   ]
  },
  {
   "cell_type": "markdown",
   "metadata": {},
   "source": [
    "Terdapat kolom yang perlu disesuaikan tipe datanya yaitu kolom `sub_category`. Silahkan lakukan pengubahan tipe data pada kolom tersebut kedalam tipe data yang sesuai.\n"
   ]
  },
  {
   "cell_type": "code",
   "execution_count": 9,
   "metadata": {},
   "outputs": [],
   "source": [
    "# ubah type data\n",
    "online_bl[['sub_category','scale']]=online_bl[['sub_category','scale']].astype(\"category\")"
   ]
  },
  {
   "cell_type": "code",
   "execution_count": 11,
   "metadata": {
    "scrolled": true
   },
   "outputs": [
    {
     "data": {
      "text/plain": [
       "item_link                 object\n",
       "title                     object\n",
       "price_original           float64\n",
       "price_discount           float64\n",
       "sub_category            category\n",
       "time_update       datetime64[ns]\n",
       "scale                   category\n",
       "dtype: object"
      ]
     },
     "execution_count": 11,
     "metadata": {},
     "output_type": "execute_result"
    }
   ],
   "source": [
    "# cek typr data\n",
    "online_bl.dtypes"
   ]
  },
  {
   "cell_type": "code",
   "execution_count": 12,
   "metadata": {
    "scrolled": true
   },
   "outputs": [
    {
     "data": {
      "text/plain": [
       "item_link           0\n",
       "title               0\n",
       "price_original     16\n",
       "price_discount    727\n",
       "sub_category        0\n",
       "time_update         0\n",
       "scale               0\n",
       "dtype: int64"
      ]
     },
     "execution_count": 12,
     "metadata": {},
     "output_type": "execute_result"
    }
   ],
   "source": [
    "#cek missing value\n",
    "online_bl.isna().sum()"
   ]
  },
  {
   "cell_type": "code",
   "execution_count": 16,
   "metadata": {},
   "outputs": [],
   "source": [
    "#imputasi kolom \"price_original\"\n",
    "online_bl['new_price'] = online_bl['price_original'].fillna(value=online_bl['price_original'].mean())"
   ]
  },
  {
   "cell_type": "code",
   "execution_count": 19,
   "metadata": {},
   "outputs": [
    {
     "data": {
      "text/plain": [
       "item_link           0\n",
       "title               0\n",
       "price_original     16\n",
       "price_discount    727\n",
       "sub_category        0\n",
       "time_update         0\n",
       "scale               0\n",
       "new_price           0\n",
       "dtype: int64"
      ]
     },
     "execution_count": 19,
     "metadata": {},
     "output_type": "execute_result"
    }
   ],
   "source": [
    "#cek data\n",
    "online_bl.isna().sum()"
   ]
  },
  {
   "cell_type": "markdown",
   "metadata": {},
   "source": [
    "## Analisis\n",
    "\n",
    "Data `online_bl` menyimpan data beragam barang yang dijual pada suatu e-commerce. Anda diminta untuk melakukan analisis terhadap data untuk menjawab beberapa pertanyaan yang ada."
   ]
  },
  {
   "cell_type": "markdown",
   "metadata": {
    "tags": []
   },
   "source": [
    "### Jenis Barang\n",
    "\n",
    "Anda ingin mencari tahu jenis barang apa saja yang dijual dan jenis barang apakah yang paling banyak dijual pada e-commerce tersebut. Menggunakan informasi dari kolom `sub_category`, silahkan jawab pertanyaan di bawah ini.\n",
    "\n",
    "1. Berapa banyak jenis barang (`sub_category`) unik yang ada dalam kumpulan data `online_bl`? Apakah kita memiliki lebih banyak produk \"detergent\" atau \"sugar\" pada data tersebut?\n",
    "\n",
    "    - [ ] 2, dimana \"detergent\" lebih banyak dari pada \"Sugar\"\n",
    "    - [ ] 2, dimana \"detergent\" dan \"sugar\" memiliki jumlah produk sama banyak\n",
    "    - [x] 3, dimana \"sugar\" lebih banyak dari pada detergent\n",
    "    - [ ] tidak ada opsi yang benar "
   ]
  },
  {
   "cell_type": "markdown",
   "metadata": {},
   "source": [
    "- Opsi jawaban Bahasa Inggris:\n",
    "\n",
    "    - [ ] 2, with more \"detergent\" than \"sugar\"\n",
    "    - [ ] 2, with \"detergent\" and \"sugar\" having equal listings\n",
    "    - [ ] 3, with more \"sugar\" than detergent\n",
    "    - [ ] None of above is correct"
   ]
  },
  {
   "cell_type": "code",
   "execution_count": 22,
   "metadata": {},
   "outputs": [
    {
     "data": {
      "text/plain": [
       "3"
      ]
     },
     "execution_count": 22,
     "metadata": {},
     "output_type": "execute_result"
    }
   ],
   "source": [
    "#banyak unik sub_category\n",
    "online_bl.sub_category.nunique()"
   ]
  },
  {
   "cell_type": "code",
   "execution_count": 23,
   "metadata": {},
   "outputs": [
    {
     "data": {
      "text/html": [
       "<div>\n",
       "<style scoped>\n",
       "    .dataframe tbody tr th:only-of-type {\n",
       "        vertical-align: middle;\n",
       "    }\n",
       "\n",
       "    .dataframe tbody tr th {\n",
       "        vertical-align: top;\n",
       "    }\n",
       "\n",
       "    .dataframe thead th {\n",
       "        text-align: right;\n",
       "    }\n",
       "</style>\n",
       "<table border=\"1\" class=\"dataframe\">\n",
       "  <thead>\n",
       "    <tr style=\"text-align: right;\">\n",
       "      <th>col_0</th>\n",
       "      <th>Banyak</th>\n",
       "    </tr>\n",
       "    <tr>\n",
       "      <th>sub_category</th>\n",
       "      <th></th>\n",
       "    </tr>\n",
       "  </thead>\n",
       "  <tbody>\n",
       "    <tr>\n",
       "      <th>detergent</th>\n",
       "      <td>106</td>\n",
       "    </tr>\n",
       "    <tr>\n",
       "      <th>rice</th>\n",
       "      <td>425</td>\n",
       "    </tr>\n",
       "    <tr>\n",
       "      <th>sugar</th>\n",
       "      <td>213</td>\n",
       "    </tr>\n",
       "  </tbody>\n",
       "</table>\n",
       "</div>"
      ],
      "text/plain": [
       "col_0         Banyak\n",
       "sub_category        \n",
       "detergent        106\n",
       "rice             425\n",
       "sugar            213"
      ]
     },
     "execution_count": 23,
     "metadata": {},
     "output_type": "execute_result"
    }
   ],
   "source": [
    "#perbandingan banyak detergen dan sugar\n",
    "pd.crosstab(index=online_bl[\"sub_category\"], columns=\"Banyak\")"
   ]
  },
  {
   "cell_type": "markdown",
   "metadata": {},
   "source": [
    "### Skala Barang\n",
    "\n",
    "Berdasarkan beberapa jenis barang yang dijual diatas, setiap barang dijual dengan beberapa ukuran berdasarkan beratnya, termasuk deterjen. Deterjen yang ada di pasaran memiliki beberapa pilihan ukuran (1kg, 1.8kg, dsb). \n",
    "\n",
    "2. Deterjen dengan ukuran berapakah yang paling banyak dijual di situs Bukalapak?\n",
    "\n",
    "    - [ ] 1 kg\n",
    "    - [x] 1.8 kg\n",
    "    - [ ] 5 kg\n",
    "    - [ ] 800 gr"
   ]
  },
  {
   "cell_type": "code",
   "execution_count": 65,
   "metadata": {},
   "outputs": [
    {
     "data": {
      "text/plain": [
       "scale\n",
       "1.8 kg    88\n",
       "800 gr    18\n",
       "1 kg       0\n",
       "5 kg       0\n",
       "Name: detergent, dtype: int64"
      ]
     },
     "execution_count": 65,
     "metadata": {},
     "output_type": "execute_result"
    }
   ],
   "source": [
    "#detergen \n",
    "pd.crosstab(index=online_bl[\"scale\"], columns=online_bl[\"sub_category\"]).sort_values(by=\"detergent\",ascending=False).loc[:,\"detergent\"]"
   ]
  },
  {
   "cell_type": "markdown",
   "metadata": {},
   "source": [
    "Anda sedang membutuhkan produk deterjen. Berdasarkan informasi ukuran deterjen serta harga yang dipasarkan, Anda tertarik untuk membeli deterjen dengan ukuran 1,8 kg dan 800 gram. Namun, Anda ingin mengetahui pada bulan apa deterjen dengan ukuran tersebut dijual dengan rata-rata harga terendah.  \n",
    "\n",
    "3. Di bulan apakah produk deterjen dengan ukuran 1,8 kg dan 800 gram berada di rata-rata harga terendah? Apakah keduanya berada di bulan yang sama?\n",
    "\n",
    "    - [x] Detergen 1.8 kg maupun 800 gr memiliki harga terendah di bulan Agustus\n",
    "    - [ ] Detergen 1.8 kg maupun 800 gr memiliki harga terendah di bulan Oktober\n",
    "    - [ ] Detergen 1.8 kg: terendah di Agustus, Detergen 800 gr: terendah di Oktober\n",
    "    - [ ] Detergen 1.8 kg: terendah di August, Detergen 800 gr: terendah di July \n",
    "    \n",
    "- Opsi Jawaban Bahasa Inggris:\n",
    "\n",
    "    - [ ] Both 1.8 kg and 800 gr detergents lowest price were in August\n",
    "    - [ ] Both 1.8 kg and 800 gr detergents lowest price were in October\n",
    "    - [ ] 1.8 kg detergents: Lowest in August, 800 gr: Lowest in October\n",
    "    - [ ] 1.8 kg detergents: Lowest in August, 800 gr: Lowest in July   "
   ]
  },
  {
   "cell_type": "code",
   "execution_count": 58,
   "metadata": {},
   "outputs": [
    {
     "data": {
      "text/plain": [
       "65660.02747252748"
      ]
     },
     "execution_count": 58,
     "metadata": {},
     "output_type": "execute_result"
    }
   ],
   "source": [
    "online_bl['price_original'].mean()"
   ]
  },
  {
   "cell_type": "code",
   "execution_count": 26,
   "metadata": {},
   "outputs": [],
   "source": [
    "#ganti format ke bulan\n",
    "online_bl['month']=online_bl['time_update'].dt.month_name()"
   ]
  },
  {
   "cell_type": "code",
   "execution_count": 60,
   "metadata": {},
   "outputs": [
    {
     "data": {
      "text/html": [
       "<div>\n",
       "<style scoped>\n",
       "    .dataframe tbody tr th:only-of-type {\n",
       "        vertical-align: middle;\n",
       "    }\n",
       "\n",
       "    .dataframe tbody tr th {\n",
       "        vertical-align: top;\n",
       "    }\n",
       "\n",
       "    .dataframe thead tr th {\n",
       "        text-align: left;\n",
       "    }\n",
       "\n",
       "    .dataframe thead tr:last-of-type th {\n",
       "        text-align: right;\n",
       "    }\n",
       "</style>\n",
       "<table border=\"1\" class=\"dataframe\">\n",
       "  <thead>\n",
       "    <tr>\n",
       "      <th></th>\n",
       "      <th></th>\n",
       "      <th colspan=\"8\" halign=\"left\">new_price</th>\n",
       "    </tr>\n",
       "    <tr>\n",
       "      <th></th>\n",
       "      <th>month</th>\n",
       "      <th>August</th>\n",
       "      <th>January</th>\n",
       "      <th>July</th>\n",
       "      <th>June</th>\n",
       "      <th>March</th>\n",
       "      <th>May</th>\n",
       "      <th>October</th>\n",
       "      <th>September</th>\n",
       "    </tr>\n",
       "    <tr>\n",
       "      <th>scale</th>\n",
       "      <th>sub_category</th>\n",
       "      <th></th>\n",
       "      <th></th>\n",
       "      <th></th>\n",
       "      <th></th>\n",
       "      <th></th>\n",
       "      <th></th>\n",
       "      <th></th>\n",
       "      <th></th>\n",
       "    </tr>\n",
       "  </thead>\n",
       "  <tbody>\n",
       "    <tr>\n",
       "      <th rowspan=\"2\" valign=\"top\">1 kg</th>\n",
       "      <th>rice</th>\n",
       "      <td>73465.000000</td>\n",
       "      <td>NaN</td>\n",
       "      <td>76800.000000</td>\n",
       "      <td>110333.333333</td>\n",
       "      <td>NaN</td>\n",
       "      <td>113333.333333</td>\n",
       "      <td>45177.372263</td>\n",
       "      <td>58489.743590</td>\n",
       "    </tr>\n",
       "    <tr>\n",
       "      <th>sugar</th>\n",
       "      <td>40700.000000</td>\n",
       "      <td>18500.0</td>\n",
       "      <td>21028.571429</td>\n",
       "      <td>51900.000000</td>\n",
       "      <td>210100.0</td>\n",
       "      <td>15000.000000</td>\n",
       "      <td>50284.946237</td>\n",
       "      <td>55071.794872</td>\n",
       "    </tr>\n",
       "    <tr>\n",
       "      <th>1.8 kg</th>\n",
       "      <th>detergent</th>\n",
       "      <td>31000.000000</td>\n",
       "      <td>NaN</td>\n",
       "      <td>40000.000000</td>\n",
       "      <td>NaN</td>\n",
       "      <td>NaN</td>\n",
       "      <td>NaN</td>\n",
       "      <td>41191.836735</td>\n",
       "      <td>42750.000000</td>\n",
       "    </tr>\n",
       "    <tr>\n",
       "      <th rowspan=\"2\" valign=\"top\">5 kg</th>\n",
       "      <th>rice</th>\n",
       "      <td>126052.941176</td>\n",
       "      <td>NaN</td>\n",
       "      <td>73250.000000</td>\n",
       "      <td>85000.000000</td>\n",
       "      <td>142500.0</td>\n",
       "      <td>85000.000000</td>\n",
       "      <td>86439.021555</td>\n",
       "      <td>74973.778999</td>\n",
       "    </tr>\n",
       "    <tr>\n",
       "      <th>sugar</th>\n",
       "      <td>90000.000000</td>\n",
       "      <td>NaN</td>\n",
       "      <td>221000.000000</td>\n",
       "      <td>90000.000000</td>\n",
       "      <td>11900.0</td>\n",
       "      <td>NaN</td>\n",
       "      <td>117143.484233</td>\n",
       "      <td>115377.580753</td>\n",
       "    </tr>\n",
       "    <tr>\n",
       "      <th>800 gr</th>\n",
       "      <th>detergent</th>\n",
       "      <td>20000.000000</td>\n",
       "      <td>NaN</td>\n",
       "      <td>30000.000000</td>\n",
       "      <td>NaN</td>\n",
       "      <td>NaN</td>\n",
       "      <td>NaN</td>\n",
       "      <td>21945.454545</td>\n",
       "      <td>33475.000000</td>\n",
       "    </tr>\n",
       "  </tbody>\n",
       "</table>\n",
       "</div>"
      ],
      "text/plain": [
       "                         new_price                                         \\\n",
       "month                       August  January           July           June   \n",
       "scale  sub_category                                                         \n",
       "1 kg   rice           73465.000000      NaN   76800.000000  110333.333333   \n",
       "       sugar          40700.000000  18500.0   21028.571429   51900.000000   \n",
       "1.8 kg detergent      31000.000000      NaN   40000.000000            NaN   \n",
       "5 kg   rice          126052.941176      NaN   73250.000000   85000.000000   \n",
       "       sugar          90000.000000      NaN  221000.000000   90000.000000   \n",
       "800 gr detergent      20000.000000      NaN   30000.000000            NaN   \n",
       "\n",
       "                                                                            \n",
       "month                   March            May        October      September  \n",
       "scale  sub_category                                                         \n",
       "1 kg   rice               NaN  113333.333333   45177.372263   58489.743590  \n",
       "       sugar         210100.0   15000.000000   50284.946237   55071.794872  \n",
       "1.8 kg detergent          NaN            NaN   41191.836735   42750.000000  \n",
       "5 kg   rice          142500.0   85000.000000   86439.021555   74973.778999  \n",
       "       sugar          11900.0            NaN  117143.484233  115377.580753  \n",
       "800 gr detergent          NaN            NaN   21945.454545   33475.000000  "
      ]
     },
     "execution_count": 60,
     "metadata": {},
     "output_type": "execute_result"
    }
   ],
   "source": [
    "#dibulan apa detergen paling murah ?\n",
    "online_bl.pivot_table(index=[\"scale\",\"sub_category\"], columns=[\"month\"], values=[\"new_price\"], aggfunc=\"mean\")"
   ]
  },
  {
   "cell_type": "markdown",
   "metadata": {},
   "source": [
    "---"
   ]
  },
  {
   "cell_type": "markdown",
   "metadata": {},
   "source": [
    "# Dataset Fund Raising"
   ]
  },
  {
   "cell_type": "markdown",
   "metadata": {},
   "source": [
    "## Data Preparation\n",
    "\n",
    "Pada analisa kedua, Anda akan menggunakan data **fund raising** yang diperoleh beberapa perusahaan startup di Amerika. Silahkan gunakan data `techcrunch.csv` dari folder `data_input`.  Dataset mengandung variable sebagai berikut :\n",
    "\n",
    "- `permalink` : nama permalink company\n",
    "- `company` : nama perusahaan (company)\n",
    "- `numEmps` : banyaknya media partner\n",
    "- `category` : kategori perusahaan\n",
    "- `city` : nama kota lokasi perusahaan\n",
    "- `state` : kode negara bagian lokasi perusahaan\n",
    "- `fundedDate` : tanggal pendanaan\n",
    "- `raisedAmt` : jumlah pendanaan yang diperoleh\n",
    "- `raisedCurrency` : informasi"
   ]
  },
  {
   "cell_type": "code",
   "execution_count": 35,
   "metadata": {
    "ExecuteTime": {
     "end_time": "2021-07-22T09:50:36.949168Z",
     "start_time": "2021-07-22T09:50:36.934155Z"
    }
   },
   "outputs": [],
   "source": [
    "## Read Data\n",
    "tc = pd.read_csv(\"data_input/techcrunch.csv\")"
   ]
  },
  {
   "cell_type": "markdown",
   "metadata": {},
   "source": [
    "Sebelum melakukan eksplorasi data lebih lanjut, silahkan sesuaikan beberapa kolom yang belum memiliki tipe data yang tepat agar memperkecil memori."
   ]
  },
  {
   "cell_type": "code",
   "execution_count": 36,
   "metadata": {
    "scrolled": true
   },
   "outputs": [
    {
     "data": {
      "text/plain": [
       "permalink          object\n",
       "company            object\n",
       "numEmps           float64\n",
       "category           object\n",
       "city               object\n",
       "state              object\n",
       "fundedDate         object\n",
       "raisedAmt           int64\n",
       "raisedCurrency     object\n",
       "round              object\n",
       "dtype: object"
      ]
     },
     "execution_count": 36,
     "metadata": {},
     "output_type": "execute_result"
    }
   ],
   "source": [
    "# cek type data\n",
    "tc.dtypes\n"
   ]
  },
  {
   "cell_type": "code",
   "execution_count": 37,
   "metadata": {
    "scrolled": true
   },
   "outputs": [
    {
     "data": {
      "text/plain": [
       "permalink         909\n",
       "company           909\n",
       "numEmps            72\n",
       "category            8\n",
       "city              193\n",
       "state              33\n",
       "fundedDate        386\n",
       "raisedAmt         281\n",
       "raisedCurrency      3\n",
       "round               9\n",
       "dtype: int64"
      ]
     },
     "execution_count": 37,
     "metadata": {},
     "output_type": "execute_result"
    }
   ],
   "source": [
    "# cek nunique tiap kolom\n",
    "tc.nunique()"
   ]
  },
  {
   "cell_type": "code",
   "execution_count": 38,
   "metadata": {},
   "outputs": [],
   "source": [
    "#ubah type data\n",
    "tc[[\"category\",\"state\",\"raisedCurrency\",\"round\"]]=tc[[\"category\",\"state\",\"raisedCurrency\",\"round\"]].astype(\"category\")\n",
    "tc[\"fundedDate\"]=pd.to_datetime(tc[\"fundedDate\"])"
   ]
  },
  {
   "cell_type": "code",
   "execution_count": 39,
   "metadata": {
    "scrolled": true
   },
   "outputs": [
    {
     "data": {
      "text/plain": [
       "permalink                 object\n",
       "company                   object\n",
       "numEmps                  float64\n",
       "category                category\n",
       "city                      object\n",
       "state                   category\n",
       "fundedDate        datetime64[ns]\n",
       "raisedAmt                  int64\n",
       "raisedCurrency          category\n",
       "round                   category\n",
       "dtype: object"
      ]
     },
     "execution_count": 39,
     "metadata": {},
     "output_type": "execute_result"
    }
   ],
   "source": [
    "# cek kembali type data\n",
    "tc.dtypes"
   ]
  },
  {
   "cell_type": "code",
   "execution_count": 40,
   "metadata": {},
   "outputs": [
    {
     "data": {
      "text/plain": [
       "permalink           0\n",
       "company             0\n",
       "numEmps           893\n",
       "category           24\n",
       "city               18\n",
       "state               0\n",
       "fundedDate          0\n",
       "raisedAmt           0\n",
       "raisedCurrency      0\n",
       "round               0\n",
       "dtype: int64"
      ]
     },
     "execution_count": 40,
     "metadata": {},
     "output_type": "execute_result"
    }
   ],
   "source": [
    "#cek missing value\n",
    "tc.isna().sum()"
   ]
  },
  {
   "cell_type": "markdown",
   "metadata": {},
   "source": [
    "## Analisis"
   ]
  },
  {
   "cell_type": "markdown",
   "metadata": {},
   "source": [
    "### Funding each Category\n",
    "\n",
    "Sebagai seseorang yang ingin menjalankan sebuah startup, Anda ingin melakukan perencanaan pendanaan yang cukup matang agar perusahaan Anda berjalan dengan lancar. Oleh karena itu, Anda tertarik untuk mencari tahu bidang (`category`) startup mana yang mendapatkan pendanaan tertinggi. Karena ada banyak startup yang bergerak dengan bidang yang sama, Anda ingin mendapatkan summary dari kebanyakan banyaknya pendanaan (`raisedAmt`) yang diberikan. Seperti yang sudah Anda ketahui sebelumnya, nilai rata-rata akan terpengaruhi oleh outlier, sehingga Anda akan menggunakan nilai **median** untuk mendapatkan summary bidang startup yang mendapatkan pendanaan tertinggi.\n",
    "\n",
    "Berdasarkan kondisi diatas, jawablah pertanyaan dibawah ini.\n",
    "\n",
    "4. Kategori (`category`) startup manakah yang mendapatkan funding (`raisedAmt`) tertinggi? gunakan `median` untuk menghitung kisaran funding dari tiap kategori!\n",
    "    \n",
    "    - [ ] `mobile`\n",
    "    - [ ] `cleantech`\n",
    "    - [x] `biotech`\n",
    "    - [ ] `consulting`"
   ]
  },
  {
   "cell_type": "code",
   "execution_count": 41,
   "metadata": {},
   "outputs": [
    {
     "data": {
      "text/html": [
       "<div>\n",
       "<style scoped>\n",
       "    .dataframe tbody tr th:only-of-type {\n",
       "        vertical-align: middle;\n",
       "    }\n",
       "\n",
       "    .dataframe tbody tr th {\n",
       "        vertical-align: top;\n",
       "    }\n",
       "\n",
       "    .dataframe thead th {\n",
       "        text-align: right;\n",
       "    }\n",
       "</style>\n",
       "<table border=\"1\" class=\"dataframe\">\n",
       "  <thead>\n",
       "    <tr style=\"text-align: right;\">\n",
       "      <th>col_0</th>\n",
       "      <th>Pendanaan</th>\n",
       "    </tr>\n",
       "    <tr>\n",
       "      <th>category</th>\n",
       "      <th></th>\n",
       "    </tr>\n",
       "  </thead>\n",
       "  <tbody>\n",
       "    <tr>\n",
       "      <th>biotech</th>\n",
       "      <td>20000000</td>\n",
       "    </tr>\n",
       "    <tr>\n",
       "      <th>cleantech</th>\n",
       "      <td>15500000</td>\n",
       "    </tr>\n",
       "    <tr>\n",
       "      <th>hardware</th>\n",
       "      <td>13700000</td>\n",
       "    </tr>\n",
       "  </tbody>\n",
       "</table>\n",
       "</div>"
      ],
      "text/plain": [
       "col_0      Pendanaan\n",
       "category            \n",
       "biotech     20000000\n",
       "cleantech   15500000\n",
       "hardware    13700000"
      ]
     },
     "execution_count": 41,
     "metadata": {},
     "output_type": "execute_result"
    }
   ],
   "source": [
    "# category startup memiliki pendanaan tertinggi\n",
    "# your code here\n",
    "pd.crosstab(index=tc[\"category\"],columns=[\"Pendanaan\"],values=tc[\"raisedAmt\"], aggfunc='median').sort_values(by=\"Pendanaan\",ascending=False).head(3)\n"
   ]
  },
  {
   "cell_type": "markdown",
   "metadata": {},
   "source": [
    "### Funding each Company\n",
    "\n",
    "Sebagai pengguna sosial media, Anda tertarik untuk menganalisa salah satu sosial media yang termasuk dalam daftar startup penerima pendanaan, yaitu **Friendster**. Selama masa pendanaan, Friendster mendapatkan pendanaan yang berbeda-beda. \n",
    "\n",
    "5. Pada periode manakah Friendster mendapatkan nilai funding tertinggi mereka?\n",
    "   \n",
    "    - [x] 2008-08\n",
    "    - [ ] 2002-12\n",
    "    - [ ] 2006-08\n",
    "    - [ ] 2012-01"
   ]
  },
  {
   "cell_type": "code",
   "execution_count": 43,
   "metadata": {},
   "outputs": [],
   "source": [
    "# rubah tipe format tanggal\n",
    "tc['fundedDate'] = tc[\"fundedDate\"].dt.to_period('M')"
   ]
  },
  {
   "cell_type": "code",
   "execution_count": 50,
   "metadata": {},
   "outputs": [
    {
     "data": {
      "text/plain": [
       "fundedDate\n",
       "2008-08    20000000.0\n",
       "2003-10    13000000.0\n",
       "2006-08    10000000.0\n",
       "2002-12     2400000.0\n",
       "1993-09           NaN\n",
       "              ...    \n",
       "2008-03           NaN\n",
       "2008-04           NaN\n",
       "2008-05           NaN\n",
       "2008-06           NaN\n",
       "2008-07           NaN\n",
       "Freq: M, Name: Friendster, Length: 97, dtype: float64"
      ]
     },
     "execution_count": 50,
     "metadata": {},
     "output_type": "execute_result"
    }
   ],
   "source": [
    "# 1.Company, 2.Periode(fundedDate), 3.nilai funding(raisedAmt)\n",
    "pd.crosstab(index=tc[\"fundedDate\"],columns=tc[\"company\"],values=tc[\"raisedAmt\"], aggfunc='sum').sort_values(by=\"Friendster\",ascending=False).loc[:,\"Friendster\"]"
   ]
  },
  {
   "cell_type": "code",
   "execution_count": 46,
   "metadata": {},
   "outputs": [
    {
     "data": {
      "text/html": [
       "<div>\n",
       "<style scoped>\n",
       "    .dataframe tbody tr th:only-of-type {\n",
       "        vertical-align: middle;\n",
       "    }\n",
       "\n",
       "    .dataframe tbody tr th {\n",
       "        vertical-align: top;\n",
       "    }\n",
       "\n",
       "    .dataframe thead th {\n",
       "        text-align: right;\n",
       "    }\n",
       "</style>\n",
       "<table border=\"1\" class=\"dataframe\">\n",
       "  <thead>\n",
       "    <tr style=\"text-align: right;\">\n",
       "      <th></th>\n",
       "      <th>permalink</th>\n",
       "      <th>company</th>\n",
       "      <th>numEmps</th>\n",
       "      <th>category</th>\n",
       "      <th>city</th>\n",
       "      <th>state</th>\n",
       "      <th>fundedDate</th>\n",
       "      <th>raisedAmt</th>\n",
       "      <th>raisedCurrency</th>\n",
       "      <th>round</th>\n",
       "    </tr>\n",
       "  </thead>\n",
       "  <tbody>\n",
       "    <tr>\n",
       "      <th>0</th>\n",
       "      <td>lifelock</td>\n",
       "      <td>LifeLock</td>\n",
       "      <td>NaN</td>\n",
       "      <td>web</td>\n",
       "      <td>Tempe</td>\n",
       "      <td>AZ</td>\n",
       "      <td>2007-05</td>\n",
       "      <td>6850000</td>\n",
       "      <td>USD</td>\n",
       "      <td>b</td>\n",
       "    </tr>\n",
       "    <tr>\n",
       "      <th>1</th>\n",
       "      <td>lifelock</td>\n",
       "      <td>LifeLock</td>\n",
       "      <td>NaN</td>\n",
       "      <td>web</td>\n",
       "      <td>Tempe</td>\n",
       "      <td>AZ</td>\n",
       "      <td>2006-10</td>\n",
       "      <td>6000000</td>\n",
       "      <td>USD</td>\n",
       "      <td>a</td>\n",
       "    </tr>\n",
       "    <tr>\n",
       "      <th>2</th>\n",
       "      <td>lifelock</td>\n",
       "      <td>LifeLock</td>\n",
       "      <td>NaN</td>\n",
       "      <td>web</td>\n",
       "      <td>Tempe</td>\n",
       "      <td>AZ</td>\n",
       "      <td>2008-01</td>\n",
       "      <td>25000000</td>\n",
       "      <td>USD</td>\n",
       "      <td>c</td>\n",
       "    </tr>\n",
       "    <tr>\n",
       "      <th>3</th>\n",
       "      <td>mycityfaces</td>\n",
       "      <td>MyCityFaces</td>\n",
       "      <td>7.0</td>\n",
       "      <td>web</td>\n",
       "      <td>Scottsdale</td>\n",
       "      <td>AZ</td>\n",
       "      <td>2008-01</td>\n",
       "      <td>50000</td>\n",
       "      <td>USD</td>\n",
       "      <td>seed</td>\n",
       "    </tr>\n",
       "    <tr>\n",
       "      <th>4</th>\n",
       "      <td>flypaper</td>\n",
       "      <td>Flypaper</td>\n",
       "      <td>NaN</td>\n",
       "      <td>web</td>\n",
       "      <td>Phoenix</td>\n",
       "      <td>AZ</td>\n",
       "      <td>2008-02</td>\n",
       "      <td>3000000</td>\n",
       "      <td>USD</td>\n",
       "      <td>a</td>\n",
       "    </tr>\n",
       "  </tbody>\n",
       "</table>\n",
       "</div>"
      ],
      "text/plain": [
       "     permalink      company  numEmps category        city state fundedDate  \\\n",
       "0     lifelock     LifeLock      NaN      web       Tempe    AZ    2007-05   \n",
       "1     lifelock     LifeLock      NaN      web       Tempe    AZ    2006-10   \n",
       "2     lifelock     LifeLock      NaN      web       Tempe    AZ    2008-01   \n",
       "3  mycityfaces  MyCityFaces      7.0      web  Scottsdale    AZ    2008-01   \n",
       "4     flypaper     Flypaper      NaN      web     Phoenix    AZ    2008-02   \n",
       "\n",
       "   raisedAmt raisedCurrency round  \n",
       "0    6850000            USD     b  \n",
       "1    6000000            USD     a  \n",
       "2   25000000            USD     c  \n",
       "3      50000            USD  seed  \n",
       "4    3000000            USD     a  "
      ]
     },
     "execution_count": 46,
     "metadata": {},
     "output_type": "execute_result"
    }
   ],
   "source": [
    "# cek lagi data\n",
    "tc.head()"
   ]
  },
  {
   "cell_type": "markdown",
   "metadata": {},
   "source": [
    "Setelah melihat beberapa startup yang mendapatkan pendanaan, Anda ingin mengetahui lebih lanjut startup yang berhasil mendapatkan pendanaan di lokasi Anda, yaitu **San Francisco**. Buatlah sebuah agregasi data yang menunjukkan beberapa perusahaan yang mendapatkan pendanaan tertinggi hingga terendah di San Francisco.\n",
    "\n",
    "6.  Perusahaan apa yang **TIDAK** termasuk 5 perusahaan dengan **total** funding (`raisedAmt`) tertinggi di San Francisco?\n",
    "    \n",
    "    - [ ] `OpenTable`\n",
    "    - [ ] `Friendster`\n",
    "    - [x] `Facebook`\n",
    "    - [ ] `Snapfish`\n",
    "  "
   ]
  },
  {
   "cell_type": "code",
   "execution_count": 57,
   "metadata": {},
   "outputs": [
    {
     "data": {
      "text/plain": [
       "company\n",
       "Slide         58000000.0\n",
       "freebase      57500000.0\n",
       "OpenTable     48000000.0\n",
       "Friendster    45400000.0\n",
       "Snapfish      43500000.0\n",
       "Name: San Francisco, dtype: float64"
      ]
     },
     "execution_count": 57,
     "metadata": {},
     "output_type": "execute_result"
    }
   ],
   "source": [
    "#1.city, 2.total_funding(raisedAmt)\n",
    "pd.crosstab(index=tc['company'], columns=tc['city'], values=tc['raisedAmt'], aggfunc=\"sum\").sort_values(by='San Francisco',ascending=False).loc[:,'San Francisco'].head()"
   ]
  },
  {
   "cell_type": "code",
   "execution_count": null,
   "metadata": {},
   "outputs": [],
   "source": []
  }
 ],
 "metadata": {
  "kernelspec": {
   "display_name": "Python 3",
   "language": "python",
   "name": "python3"
  },
  "language_info": {
   "codemirror_mode": {
    "name": "ipython",
    "version": 3
   },
   "file_extension": ".py",
   "mimetype": "text/x-python",
   "name": "python",
   "nbconvert_exporter": "python",
   "pygments_lexer": "ipython3",
   "version": "3.8.8"
  },
  "latex_envs": {
   "LaTeX_envs_menu_present": true,
   "autoclose": false,
   "autocomplete": true,
   "bibliofile": "biblio.bib",
   "cite_by": "apalike",
   "current_citInitial": 1,
   "eqLabelWithNumbers": true,
   "eqNumInitial": 1,
   "hotkeys": {
    "equation": "Ctrl-E",
    "itemize": "Ctrl-I"
   },
   "labels_anchors": false,
   "latex_user_defs": false,
   "report_style_numbering": false,
   "user_envs_cfg": false
  },
  "toc": {
   "base_numbering": 1,
   "nav_menu": {},
   "number_sections": true,
   "sideBar": true,
   "skip_h1_title": false,
   "title_cell": "Table of Contents",
   "title_sidebar": "Contents",
   "toc_cell": false,
   "toc_position": {},
   "toc_section_display": true,
   "toc_window_display": false
  }
 },
 "nbformat": 4,
 "nbformat_minor": 4
}
